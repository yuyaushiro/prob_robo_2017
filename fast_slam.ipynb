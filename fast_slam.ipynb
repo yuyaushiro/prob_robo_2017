{
 "cells": [
  {
   "cell_type": "code",
   "execution_count": 1,
   "metadata": {
    "collapsed": true
   },
   "outputs": [],
   "source": [
    "%matplotlib inline\n",
    "import numpy as np\n",
    "from copy import copy\n",
    "import math\n",
    "import random\n",
    "import matplotlib.pyplot as plt\n",
    "from matplotlib.patches import Ellipse"
   ]
  },
  {
   "cell_type": "code",
   "execution_count": 2,
   "metadata": {
    "collapsed": true
   },
   "outputs": [],
   "source": [
    "# ランドマークのクラス\n",
    "class Landmark:\n",
    "    def __init__(self, x, y):\n",
    "        self.pos = np.array([[x],[y]])\n",
    "    \n",
    "    def relative_pos(self, pose):\n",
    "            x, y, theta = pose\n",
    "            lx, ly = self.pos[0][0], self.pos[1][0]\n",
    "            distance = math.sqrt((x-lx)**2 + (y-ly)**2)\n",
    "            direction = math.atan2(ly-y, lx-x) - theta\n",
    "            \n",
    "            return (distance, direction, lx, ly)"
   ]
  },
  {
   "cell_type": "code",
   "execution_count": 3,
   "metadata": {
    "collapsed": true
   },
   "outputs": [],
   "source": [
    "# マップのクラス\n",
    "class Map:\n",
    "    def __init__(self):\n",
    "        self.landmarks = []\n",
    "    \n",
    "    def append_landmark(self, x, y):\n",
    "        self.landmarks.append(Landmark(x, y))\n",
    "        \n",
    "    def draw(self):\n",
    "        xs = [e.pos[0][0] for e in self.landmarks]\n",
    "        ys = [e.pos[1][0] for e in self.landmarks]\n",
    "        plt.scatter(xs,ys,s=300,marker=\"*\",label=\"landmarks\",color=\"orange\")\n",
    "    \n",
    "    def relative_landmark_positions(self, pose):\n",
    "        positions = []\n",
    "        for i, ln in enumerate(self.landmarks):\n",
    "            distance, direction, lx, ly = ln.relative_pos(pose)\n",
    "            positions.append([distance, direction, lx, ly, i])\n",
    "            \n",
    "        return positions"
   ]
  },
  {
   "cell_type": "code",
   "execution_count": 4,
   "metadata": {},
   "outputs": [
    {
     "data": {
      "image/png": "[encoded data removed]",
      "text/plain": [
       "<matplotlib.figure.Figure at 0x10a2c3278>"
      ]
     },
     "metadata": {},
     "output_type": "display_data"
    }
   ],
   "source": [
    "m = Map()\n",
    "m.append_landmark(-0.5,0.0)\n",
    "m.append_landmark(0.5,0.0)\n",
    "m.append_landmark(0.0,0.5)\n",
    "\n",
    "m.draw()"
   ]
  },
  {
   "cell_type": "code",
   "execution_count": 5,
   "metadata": {
    "collapsed": true
   },
   "outputs": [],
   "source": [
    "# ロボットのクラス\n",
    "class Robot:\n",
    "    def __init__(self, pose):\n",
    "        self.pose = pose\n",
    "        \n",
    "    def draw(self):\n",
    "        x,y,theta = self.pose\n",
    "        plt.quiver([x], [y], [math.cos(theta)], [math.sin(theta)],\n",
    "                          color=\"red\", label=\"actual robot motion\")\n",
    "        \n",
    "    def observation(self, m):\n",
    "        measurements = m.relative_landmark_positions(self.pose)\n",
    "        \n",
    "        observations = []\n",
    "        for m in measurements:\n",
    "            distance, direction, lx, ly, i = m\n",
    "            # 視界\n",
    "            if (math.cos(direction) < 0.0): continue\n",
    "            \n",
    "            # 観測値にノイズを混ぜる\n",
    "            measured_distance = random.gauss(distance, distance*0.1)  # 距離 10%\n",
    "            measured_direction = random.gauss(direction, 5.0/180.0*math.pi)  # 方向 5[deg]\n",
    "            observations.append([measured_distance, measured_direction, lx, ly, i])  \n",
    "        \n",
    "        return observations\n",
    "\n",
    "    def motion_model(self, pos, fw, rot):\n",
    "        # 移動にノイズを混ぜる\n",
    "        actual_fw = random.gauss(fw, fw/10) # 移動距離 10%\n",
    "        dir_error = random.gauss(0.0, math.pi / 180.0 * 3.0)  # 前進時方向ズレ 3[deg] \n",
    "\n",
    "        px, py, pt = pos\n",
    "\n",
    "        #前進\n",
    "        x = px + actual_fw * math.cos(pt + dir_error)\n",
    "        y = py + actual_fw * math.sin(pt + dir_error)\n",
    "\n",
    "        # 回転 10%\n",
    "        t = pt + dir_error + random.gauss(rot,rot/10)\n",
    "\n",
    "        # あとで使うので位置の変数を変えずに移動量を返す\n",
    "        return np.array([x,y,t])"
   ]
  },
  {
   "cell_type": "code",
   "execution_count": 6,
   "metadata": {},
   "outputs": [
    {
     "data": {
      "image/png": "[encoded data removed]",
      "text/plain": [
       "<matplotlib.figure.Figure at 0x10d6ed668>"
      ]
     },
     "metadata": {},
     "output_type": "display_data"
    }
   ],
   "source": [
    "robot = Robot(np.array([0.1, 0.2, math.pi*20.0/180]) )\n",
    "robot.draw()\n",
    "m.draw()"
   ]
  },
  {
   "cell_type": "code",
   "execution_count": 7,
   "metadata": {},
   "outputs": [
    {
     "name": "stdout",
     "output_type": "stream",
     "text": [
      "[[0.5043179722922561, -0.88229134714518775, 0.5, 0.0, 1], [0.29589501157219666, 1.6010616274976297, 0.0, 0.5, 2]]\n"
     ]
    },
    {
     "data": {
      "image/png": "[encoded data removed]",
      "text/plain": [
       "<matplotlib.figure.Figure at 0x10d877198>"
      ]
     },
     "metadata": {},
     "output_type": "display_data"
    }
   ],
   "source": [
    "observations = robot.observation(m)\n",
    "print(observations)\n",
    "\n",
    "fig = plt.figure(0,figsize=(8, 8))\n",
    "sp = fig.add_subplot(111, aspect='equal')\n",
    "sp.set_xlim(-1.0,1.0)\n",
    "sp.set_ylim(-0.5,1.5)\n",
    "    \n",
    "for observation in observations:\n",
    "    x,y,theta = robot.pose\n",
    "    distance, direction,lx,ly, i = observation\n",
    "    lx = distance*math.cos(theta + direction) + x\n",
    "    ly = distance*math.sin(theta + direction) + y\n",
    "    plt.plot([robot.pose[0],  lx],[robot.pose[1],  ly],color=\"pink\")\n",
    "    \n",
    "    c = math.cos(theta + direction)\n",
    "    s = math.sin(theta + direction)\n",
    "    rot = np.array([[ c, -s],\n",
    "                               [ s,  c]])\n",
    "    \n",
    "    err_robot = np.array([[(distance*0.1)**2,0.0],\n",
    "              [0.0,(distance*math.sin(5.0/180.0*math.pi))**2]])\n",
    "    err_world = (rot).dot(err_robot).dot((rot).T)\n",
    "    \n",
    "    eig_vals,eig_vec = np.linalg.eig(err_world)\n",
    "    v1 = eig_vals[0] * eig_vec[:, 0]\n",
    "    v2 = eig_vals[1] * eig_vec[:, 1]\n",
    "    v1_direction = math.atan2(v1[1], v1[0])\n",
    "    \n",
    "    elli = Ellipse([lx, ly], width=3*math.sqrt(np.linalg.norm(v1)), height=3*math.sqrt(np.linalg.norm(v2)), angle=v1_direction/3.14*180)\n",
    "    elli.set_alpha(0.2)\n",
    "    sp.add_artist(elli)\n",
    "    \n",
    "robot.draw()\n",
    "m.draw()"
   ]
  },
  {
   "cell_type": "code",
   "execution_count": 8,
   "metadata": {
    "collapsed": true
   },
   "outputs": [],
   "source": [
    "class LandmarkEstimation:\n",
    "    def __init__(self):\n",
    "        self.pos = np.array([[0.0], [0.0]])\n",
    "        # 最初は大きな共分散行列にしておく\n",
    "        self.cov = np.array([[1000000.0**2, 0.0],\n",
    "                                           [0.0, 1000000**2]])"
   ]
  },
  {
   "cell_type": "code",
   "execution_count": 9,
   "metadata": {
    "collapsed": true
   },
   "outputs": [],
   "source": [
    "class Particle:\n",
    "    def __init__(self, pose, w):\n",
    "        self.w = w\n",
    "        self.pose = pose\n",
    "        self.map = [LandmarkEstimation(), LandmarkEstimation(), LandmarkEstimation()]  #数は3で既知とする\n",
    "\n",
    "    def motion_update(self, fw, rot, robot):\n",
    "        self.pose = robot.motion_model(self.pose, fw, rot)\n",
    "        \n",
    "    def measurement_update(self, measurement):\n",
    "        x,y,theta = self.pose\n",
    "        distance, direction, lx, ly, i = measurement\n",
    "        ln = self.map[i]\n",
    "        lx = distance * math.cos(theta + direction) + x\n",
    "        ly = distance * math.sin(theta + direction) + y\n",
    "        ## 重みの更新\n",
    "        delta = np.array([[x], [y]]) - np.array([[lx], [ly]])\n",
    "        coef = 2*math.pi * math.sqrt(np.linalg.det(ln.cov))\n",
    "        inexp = -0.5 * (delta.T.dot(np.linalg.inv(ln.cov))).dot(delta)\n",
    "        self.w *= 1.0/coef * math.exp(inexp)\n",
    "        \n",
    "        ## 地図の書き換え\n",
    "        \n",
    "        z = np.array([[lx], [ly]])\n",
    "    \n",
    "        c = math.cos(theta + direction)\n",
    "        s = math.sin(theta + direction)\n",
    "        rot = np.array([[ c,  -s],\n",
    "                                   [ s,  c]])\n",
    "    \n",
    "        err_robot = np.array([[(distance*0.1)**2, 0.0],\n",
    "                            [0.0,(distance*math.sin(5.0/180.0*math.pi))**2]])\n",
    "        err_world = (rot).dot(err_robot).dot((rot).T)       \n",
    "        \n",
    "        ln.cov = np.linalg.inv( np.linalg.inv(ln.cov) + np.linalg.inv(err_world) )\n",
    "        K = (ln.cov).dot(np.linalg.inv(err_world))\n",
    "        ln.pos += K.dot( z - ln.pos )\n",
    "        \n",
    "    def draw(self, i):\n",
    "        fig = plt.figure(i, figsize=(4, 4))\n",
    "        sp = fig.add_subplot(111, aspect='equal')\n",
    "        sp.set_xlim(-1.0, 1.0)\n",
    "        sp.set_ylim(-0.5, 1.5)\n",
    "        \n",
    "        m.draw()\n",
    "        x, y, theta = self.pose\n",
    "        plt.quiver([x], [y], [math.cos(theta)], [math.sin(theta)], color=\"red\", label=\"actual robot motion\")\n",
    "        \n",
    "        for e in self.map:\n",
    "            eig_vals, eig_vec = np.linalg.eig(e.cov)\n",
    "            v1 = eig_vals[0] * eig_vec[:, 0]\n",
    "            v2 = eig_vals[1] * eig_vec[:, 1]\n",
    "            v1_direction = math.atan2(v1[1], v1[0])\n",
    "\n",
    "            x, y = e.pos\n",
    "            elli = Ellipse([x,y], width=3*math.sqrt(np.linalg.norm(v1)), height=3*math.sqrt(np.linalg.norm(v2)), angle=v1_direction/3.14*180)\n",
    "            elli.set_alpha(0.5)\n",
    "        \n",
    "            sp.add_artist(elli)"
   ]
  },
  {
   "cell_type": "code",
   "execution_count": 10,
   "metadata": {
    "collapsed": true
   },
   "outputs": [],
   "source": [
    "import copy\n",
    "        \n",
    "class FastSLAM():\n",
    "    def __init__(self, pose):\n",
    "        self.particles = [Particle(pose,1.0/100) for i in range(100)]\n",
    "        \n",
    "    def draw(self):\n",
    "        for (i, p) in enumerate(self.particles):\n",
    "            if i == 3: return\n",
    "            p.draw(i)\n",
    "            \n",
    "    def motion_update(self, fw, rot, robot):\n",
    "        for p in self.particles:\n",
    "            p.motion_update(fw, rot, robot)\n",
    "            \n",
    "    def measurement_update(self, measurement):\n",
    "        for p in self.particles:\n",
    "            p.measurement_update(measurement)\n",
    "            \n",
    "        self.resampling()\n",
    "            \n",
    "    def resampling(self):\n",
    "        num = len(self.particles)  # numはパーティクルの個数\n",
    "        ws = [e.w for e in self.particles]  # 重みのリストを作る\n",
    "    \n",
    "        #重みの和がゼロに丸め込まれるとサンプリングできなくなるので小さな数を足しておく\n",
    "        if sum(ws) < 1e-100:\n",
    "            ws = [e + 1e-100 for e in ws]\n",
    "        \n",
    "        # パーティクルのリストから、weightsのリストの重みに比例した確率で、num個選ぶ\n",
    "        ps = random.choices(self.particles, weights=ws, k=num)\n",
    "        # 選んだリストからパーティクルを取り出し、パーティクルの姿勢から重み1/numの新しいパーティクルを作成\n",
    "        self.particles = [copy.deepcopy(e) for e in ps]"
   ]
  },
  {
   "cell_type": "code",
   "execution_count": 11,
   "metadata": {},
   "outputs": [
    {
     "name": "stdout",
     "output_type": "stream",
     "text": [
      "30step後の地図\n"
     ]
    },
    {
     "data": {
      "image/png": "[encoded data removed]",
      "text/plain": [
       "<matplotlib.figure.Figure at 0x10da72208>"
      ]
     },
     "metadata": {},
     "output_type": "display_data"
    },
    {
     "data": {
      "image/png": "[encoded data removed]",
      "text/plain": [
       "<matplotlib.figure.Figure at 0x10dc11e10>"
      ]
     },
     "metadata": {},
     "output_type": "display_data"
    },
    {
     "data": {
      "image/png": "[encoded data removed]",
      "text/plain": [
       "<matplotlib.figure.Figure at 0x10dbb2e80>"
      ]
     },
     "metadata": {},
     "output_type": "display_data"
    }
   ],
   "source": [
    "robot.pose = np.array([0.0, 0.0, 0.0])\n",
    "slam = FastSLAM(robot.pose)\n",
    "def one_step(m):\n",
    "    slam.motion_update(0.2, math.pi / 180.0 * 20, robot)\n",
    "    robot.pose = robot.motion_model(robot.pose, 0.2, math.pi / 180.0 * 20)\n",
    "    measurements = robot.observation(m)\n",
    "    for m in measurements:\n",
    "        slam.measurement_update(m)\n",
    "\n",
    "n = 30\n",
    "for i in range(n):\n",
    "    one_step(m)\n",
    "\n",
    "print(str(n) + \"step後の地図\")\n",
    "slam.draw()"
   ]
  },
  {
   "cell_type": "code",
   "execution_count": null,
   "metadata": {
    "collapsed": true
   },
   "outputs": [],
   "source": []
  }
 ],
 "metadata": {
  "kernelspec": {
   "display_name": "Python 3",
   "language": "python",
   "name": "python3"
  },
  "language_info": {
   "codemirror_mode": {
    "name": "ipython",
    "version": 3
   },
   "file_extension": ".py",
   "mimetype": "text/x-python",
   "name": "python",
   "nbconvert_exporter": "python",
   "pygments_lexer": "ipython3",
   "version": "3.6.1"
  }
 },
 "nbformat": 4,
 "nbformat_minor": 2
}
